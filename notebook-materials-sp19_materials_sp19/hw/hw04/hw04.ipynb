{
 "cells": [
  {
   "cell_type": "markdown",
   "metadata": {},
   "source": [
    "# Homework 4: Functions, Histograms, and Groups"
   ]
  },
  {
   "cell_type": "markdown",
   "metadata": {},
   "source": [
    "**Reading**: \n",
    "\n",
    "* [Visualizing Numerical Distributions](https://www.inferentialthinking.com/chapters/07/2/visualizing-numerical-distributions.html) \n",
    "* [Functions and Tables](https://www.inferentialthinking.com/chapters/08/functions-and-tables.html)"
   ]
  },
  {
   "cell_type": "markdown",
   "metadata": {},
   "source": [
    "Please complete this notebook by filling in the cells provided. Before you begin, execute the following cell to load the provided tests. Each time you start your server, you will need to execute this cell again to load the tests.\n",
    "\n",
    "Homework 4 is due Thursday, 2/21 at 11:59pm. Start early so that you can come to office hours if you're stuck. Check the website for the office hours schedule.\n",
    "You will receive an early submission bonus point if you turn in your final submission by Wednesday, 2/20 at 11:59pm. Late work will not be accepted as per the [policies](http://data8.org/sp19/policies.html) of this course. \n",
    "\n",
    "Throughout this homework and all future ones, please be sure to not re-assign variables throughout the notebook! For example, if you use `max_temperature` in your answer to one question, do not reassign it later on. Moreover, please be sure to only put your written answers in the provided cells. "
   ]
  },
  {
   "cell_type": "code",
   "execution_count": 3,
   "metadata": {},
   "outputs": [
    {
     "name": "stdout",
     "output_type": "stream",
     "text": [
      "=====================================================================\n",
      "Assignment: Homework 4: Functions, Histograms, and Groups\n",
      "OK, version v1.12.5\n",
      "=====================================================================\n",
      "\n"
     ]
    }
   ],
   "source": [
    "# Don't change this cell; just run it. \n",
    "\n",
    "import numpy as np\n",
    "from datascience import *\n",
    "\n",
    "# These lines do some fancy plotting magic.\\n\",\n",
    "import matplotlib\n",
    "%matplotlib inline\n",
    "import matplotlib.pyplot as plt\n",
    "plt.style.use('fivethirtyeight')\n",
    "\n",
    "from client.api.notebook import Notebook\n",
    "ok = Notebook('hw04.ok')"
   ]
  },
  {
   "cell_type": "markdown",
   "metadata": {},
   "source": [
    "Before continuing the assignment, select \"Save and Checkpoint\" in the File menu and then execute the submit cell below. The result will contain a link that you can use to check that your assignment has been submitted successfully. If you submit more than once before the deadline, we will only grade your final submission. If you mistakenly submit the wrong one, you can head to okpy.org and flag the correct version. There will be another submit cell at the end of the assignment when you finish!"
   ]
  },
  {
   "cell_type": "code",
   "execution_count": 17,
   "metadata": {},
   "outputs": [
    {
     "data": {
      "application/javascript": [
       "IPython.notebook.save_checkpoint();"
      ],
      "text/plain": [
       "<IPython.core.display.Javascript object>"
      ]
     },
     "metadata": {},
     "output_type": "display_data"
    },
    {
     "data": {
      "application/javascript": [
       "IPython.notebook.save_notebook();"
      ],
      "text/plain": [
       "<IPython.core.display.Javascript object>"
      ]
     },
     "metadata": {},
     "output_type": "display_data"
    },
    {
     "name": "stdout",
     "output_type": "stream",
     "text": [
      "Saving notebook... Saved 'hw04.ipynb'.\n",
      "Submit... 100% complete\n",
      "Submission successful for user: mingxiuhui@berkeley.edu\n",
      "URL: https://okpy.org/cal/data8/sp19/hw04/submissions/wVm5yR\n",
      "\n"
     ]
    }
   ],
   "source": [
    "_ = ok.submit()"
   ]
  },
  {
   "cell_type": "markdown",
   "metadata": {},
   "source": [
    "## 1. Causes of Death by Year\n"
   ]
  },
  {
   "cell_type": "markdown",
   "metadata": {},
   "source": [
    "This exercise is designed to give you practice using the Table method `pivot`. [Here](http://data8.org/sp19/python-reference.html) is a link to the Python reference page in case you need a quick refresher.\n",
    "\n",
    "We'll be looking at a [dataset](http://www.healthdata.gov/dataset/leading-causes-death-zip-code-1999-2013) from the California Department of Public Health that records the cause of death, as recorded on a death certificate, for everyone who died in California from 1999 to 2013.  The data is in the file `causes_of_death.csv.zip`. Each row records the number of deaths by a specific cause in one year in one ZIP code.\n",
    "\n",
    "To make the file smaller, we've compressed it; run the next cell to unzip and load it."
   ]
  },
  {
   "cell_type": "code",
   "execution_count": 4,
   "metadata": {},
   "outputs": [
    {
     "name": "stdout",
     "output_type": "stream",
     "text": [
      "Archive:  causes_of_death.csv.zip\n",
      "  inflating: causes_of_death.csv     \n"
     ]
    },
    {
     "data": {
      "text/html": [
       "<table border=\"1\" class=\"dataframe\">\n",
       "    <thead>\n",
       "        <tr>\n",
       "            <th>Year</th> <th>ZIP Code</th> <th>Cause of Death</th> <th>Count</th> <th>Location </th>\n",
       "        </tr>\n",
       "    </thead>\n",
       "    <tbody>\n",
       "        <tr>\n",
       "            <td>1999</td> <td>90002   </td> <td>SUI           </td> <td>1    </td> <td>(33.94969, -118.246213) </td>\n",
       "        </tr>\n",
       "        <tr>\n",
       "            <td>1999</td> <td>90005   </td> <td>HOM           </td> <td>1    </td> <td>(34.058508, -118.301197)</td>\n",
       "        </tr>\n",
       "        <tr>\n",
       "            <td>1999</td> <td>90006   </td> <td>ALZ           </td> <td>1    </td> <td>(34.049323, -118.291687)</td>\n",
       "        </tr>\n",
       "        <tr>\n",
       "            <td>1999</td> <td>90007   </td> <td>ALZ           </td> <td>1    </td> <td>(34.029442, -118.287095)</td>\n",
       "        </tr>\n",
       "        <tr>\n",
       "            <td>1999</td> <td>90009   </td> <td>DIA           </td> <td>1    </td> <td>(33.9452, -118.3832)    </td>\n",
       "        </tr>\n",
       "        <tr>\n",
       "            <td>1999</td> <td>90009   </td> <td>LIV           </td> <td>1    </td> <td>(33.9452, -118.3832)    </td>\n",
       "        </tr>\n",
       "        <tr>\n",
       "            <td>1999</td> <td>90009   </td> <td>OTH           </td> <td>1    </td> <td>(33.9452, -118.3832)    </td>\n",
       "        </tr>\n",
       "        <tr>\n",
       "            <td>1999</td> <td>90010   </td> <td>STK           </td> <td>1    </td> <td>(34.060633, -118.302664)</td>\n",
       "        </tr>\n",
       "        <tr>\n",
       "            <td>1999</td> <td>90010   </td> <td>CLD           </td> <td>1    </td> <td>(34.060633, -118.302664)</td>\n",
       "        </tr>\n",
       "        <tr>\n",
       "            <td>1999</td> <td>90010   </td> <td>DIA           </td> <td>1    </td> <td>(34.060633, -118.302664)</td>\n",
       "        </tr>\n",
       "    </tbody>\n",
       "</table>\n",
       "<p>... (320142 rows omitted)</p>"
      ],
      "text/plain": [
       "Year | ZIP Code | Cause of Death | Count | Location\n",
       "1999 | 90002    | SUI            | 1     | (33.94969, -118.246213)\n",
       "1999 | 90005    | HOM            | 1     | (34.058508, -118.301197)\n",
       "1999 | 90006    | ALZ            | 1     | (34.049323, -118.291687)\n",
       "1999 | 90007    | ALZ            | 1     | (34.029442, -118.287095)\n",
       "1999 | 90009    | DIA            | 1     | (33.9452, -118.3832)\n",
       "1999 | 90009    | LIV            | 1     | (33.9452, -118.3832)\n",
       "1999 | 90009    | OTH            | 1     | (33.9452, -118.3832)\n",
       "1999 | 90010    | STK            | 1     | (34.060633, -118.302664)\n",
       "1999 | 90010    | CLD            | 1     | (34.060633, -118.302664)\n",
       "1999 | 90010    | DIA            | 1     | (34.060633, -118.302664)\n",
       "... (320142 rows omitted)"
      ]
     },
     "execution_count": 4,
     "metadata": {},
     "output_type": "execute_result"
    }
   ],
   "source": [
    "!unzip -o causes_of_death.csv.zip\n",
    "causes = Table.read_table('causes_of_death.csv')\n",
    "causes"
   ]
  },
  {
   "cell_type": "markdown",
   "metadata": {},
   "source": [
    "The causes of death in the data are abbreviated.  We've provided a table called `abbreviations.csv` to translate the abbreviations."
   ]
  },
  {
   "cell_type": "code",
   "execution_count": 5,
   "metadata": {},
   "outputs": [
    {
     "data": {
      "text/html": [
       "<table border=\"1\" class=\"dataframe\">\n",
       "    <thead>\n",
       "        <tr>\n",
       "            <th>Cause of Death</th> <th>Cause of Death (Full Description)</th>\n",
       "        </tr>\n",
       "    </thead>\n",
       "    <tbody>\n",
       "        <tr>\n",
       "            <td>AID           </td> <td>Acquired Immune Deficiency Syndrome (AIDS)           </td>\n",
       "        </tr>\n",
       "        <tr>\n",
       "            <td>ALZ           </td> <td>Alzheimer's Disease                                  </td>\n",
       "        </tr>\n",
       "        <tr>\n",
       "            <td>CAN           </td> <td>Malignant Neoplasms (Cancers)                        </td>\n",
       "        </tr>\n",
       "        <tr>\n",
       "            <td>CLD           </td> <td>Chronic Lower Respiratory Disease (CLRD)             </td>\n",
       "        </tr>\n",
       "        <tr>\n",
       "            <td>CPD           </td> <td>Chronic Obstructive Pulmonary Disease (COPD)         </td>\n",
       "        </tr>\n",
       "        <tr>\n",
       "            <td>DIA           </td> <td>Diabetes Mellitus                                    </td>\n",
       "        </tr>\n",
       "        <tr>\n",
       "            <td>HIV           </td> <td>Human Immunodeficiency Virus Disease (HIVD)          </td>\n",
       "        </tr>\n",
       "        <tr>\n",
       "            <td>HOM           </td> <td>Homicide                                             </td>\n",
       "        </tr>\n",
       "        <tr>\n",
       "            <td>HTD           </td> <td>Diseases of the Heart                                </td>\n",
       "        </tr>\n",
       "        <tr>\n",
       "            <td>HYP           </td> <td>Essential Hypertension and Hypertensive Renal Disease</td>\n",
       "        </tr>\n",
       "        <tr>\n",
       "            <td>INJ           </td> <td>Unintentional Injuries                               </td>\n",
       "        </tr>\n",
       "        <tr>\n",
       "            <td>LIV           </td> <td>Chronic Liver Disease and Cirrhosis                  </td>\n",
       "        </tr>\n",
       "        <tr>\n",
       "            <td>NEP           </td> <td>Kidney Disease (Nephritis)                           </td>\n",
       "        </tr>\n",
       "        <tr>\n",
       "            <td>OTH           </td> <td>All Other Causes                                     </td>\n",
       "        </tr>\n",
       "        <tr>\n",
       "            <td>PNF           </td> <td>Pneumonia and Influenza                              </td>\n",
       "        </tr>\n",
       "        <tr>\n",
       "            <td>STK           </td> <td>Cerebrovascular Disease (Stroke)                     </td>\n",
       "        </tr>\n",
       "        <tr>\n",
       "            <td>SUI           </td> <td>Intentional Self Harm (Suicide)                      </td>\n",
       "        </tr>\n",
       "    </tbody>\n",
       "</table>"
      ],
      "text/plain": [
       "<IPython.core.display.HTML object>"
      ]
     },
     "metadata": {},
     "output_type": "display_data"
    }
   ],
   "source": [
    "abbreviations = Table.read_table('abbreviations.csv')\n",
    "abbreviations.show()"
   ]
  },
  {
   "cell_type": "markdown",
   "metadata": {},
   "source": [
    "The dataset is missing data on certain causes of death, such as homicide and hypertensive renal disease, for certain years.  It looks like those causes of death are relatively rare, so for some purposes it makes sense to drop them from consideration.  Of course, we'll have to keep in mind that we're no longer looking at a comprehensive report on all deaths in California.\n",
    "\n",
    "**Question 1.** Let's clean up our data. First, filter out the HOM, HYP, and NEP rows from the table for the reasons described above. Next, join together the abbreviations table and our causes of death table so that we have a more detailed discription of each disease in each row. Lastly, drop the column which contains the acronym of the disease, and rename the column with the full description 'Cause of Death'. Assign the variable `cleaned_causes` to the resulting table. \n",
    "\n",
    "*Hint:* You should expect this to take more than one line. Use many lines and many intermediate tables to complete this question. "
   ]
  },
  {
   "cell_type": "code",
   "execution_count": 6,
   "metadata": {
    "deletable": false,
    "for_assignment_type": "student"
   },
   "outputs": [
    {
     "data": {
      "text/html": [
       "<table border=\"1\" class=\"dataframe\">\n",
       "    <thead>\n",
       "        <tr>\n",
       "            <th>Year</th> <th>ZIP Code</th> <th>Count</th> <th>Location </th> <th>Cause of Death</th>\n",
       "        </tr>\n",
       "    </thead>\n",
       "    <tbody>\n",
       "        <tr>\n",
       "            <td>1999</td> <td>90006   </td> <td>1    </td> <td>(34.049323, -118.291687)</td> <td>Alzheimer's Disease</td>\n",
       "        </tr>\n",
       "        <tr>\n",
       "            <td>1999</td> <td>90007   </td> <td>1    </td> <td>(34.029442, -118.287095)</td> <td>Alzheimer's Disease</td>\n",
       "        </tr>\n",
       "        <tr>\n",
       "            <td>1999</td> <td>90012   </td> <td>1    </td> <td>(34.061396, -118.238479)</td> <td>Alzheimer's Disease</td>\n",
       "        </tr>\n",
       "        <tr>\n",
       "            <td>1999</td> <td>90015   </td> <td>1    </td> <td>(34.043439, -118.271613)</td> <td>Alzheimer's Disease</td>\n",
       "        </tr>\n",
       "        <tr>\n",
       "            <td>1999</td> <td>90017   </td> <td>1    </td> <td>(34.055864, -118.266582)</td> <td>Alzheimer's Disease</td>\n",
       "        </tr>\n",
       "        <tr>\n",
       "            <td>1999</td> <td>90020   </td> <td>1    </td> <td>(34.066535, -118.302211)</td> <td>Alzheimer's Disease</td>\n",
       "        </tr>\n",
       "        <tr>\n",
       "            <td>1999</td> <td>90031   </td> <td>1    </td> <td>(34.078349, -118.211279)</td> <td>Alzheimer's Disease</td>\n",
       "        </tr>\n",
       "        <tr>\n",
       "            <td>1999</td> <td>90033   </td> <td>1    </td> <td>(34.048676, -118.208442)</td> <td>Alzheimer's Disease</td>\n",
       "        </tr>\n",
       "        <tr>\n",
       "            <td>1999</td> <td>90042   </td> <td>1    </td> <td>(34.114527, -118.192902)</td> <td>Alzheimer's Disease</td>\n",
       "        </tr>\n",
       "        <tr>\n",
       "            <td>1999</td> <td>90044   </td> <td>1    </td> <td>(33.955089, -118.290119)</td> <td>Alzheimer's Disease</td>\n",
       "        </tr>\n",
       "    </tbody>\n",
       "</table>\n",
       "<p>... (251538 rows omitted)</p>"
      ],
      "text/plain": [
       "Year | ZIP Code | Count | Location                 | Cause of Death\n",
       "1999 | 90006    | 1     | (34.049323, -118.291687) | Alzheimer's Disease\n",
       "1999 | 90007    | 1     | (34.029442, -118.287095) | Alzheimer's Disease\n",
       "1999 | 90012    | 1     | (34.061396, -118.238479) | Alzheimer's Disease\n",
       "1999 | 90015    | 1     | (34.043439, -118.271613) | Alzheimer's Disease\n",
       "1999 | 90017    | 1     | (34.055864, -118.266582) | Alzheimer's Disease\n",
       "1999 | 90020    | 1     | (34.066535, -118.302211) | Alzheimer's Disease\n",
       "1999 | 90031    | 1     | (34.078349, -118.211279) | Alzheimer's Disease\n",
       "1999 | 90033    | 1     | (34.048676, -118.208442) | Alzheimer's Disease\n",
       "1999 | 90042    | 1     | (34.114527, -118.192902) | Alzheimer's Disease\n",
       "1999 | 90044    | 1     | (33.955089, -118.290119) | Alzheimer's Disease\n",
       "... (251538 rows omitted)"
      ]
     },
     "execution_count": 6,
     "metadata": {},
     "output_type": "execute_result"
    }
   ],
   "source": [
    "step1 = causes.where(\"Cause of Death\", are.not_equal_to (\"HOM\"))\n",
    "step2 = step1.where(\"Cause of Death\", are.not_equal_to(\"HYP\"))\n",
    "step3 = step2.where(\"Cause of Death\", are.not_equal_to(\"NEP\"))\n",
    "step4 = step3.join(\"Cause of Death\", abbreviations, \"Cause of Death\")\n",
    "cleaned_causes = step4.drop(\"Cause of Death\").relabeled(\"Cause of Death (Full Description)\",\"Cause of Death\")\n",
    "cleaned_causes"
   ]
  },
  {
   "cell_type": "code",
   "execution_count": 7,
   "metadata": {
    "deletable": false
   },
   "outputs": [
    {
     "name": "stdout",
     "output_type": "stream",
     "text": [
      "~~~~~~~~~~~~~~~~~~~~~~~~~~~~~~~~~~~~~~~~~~~~~~~~~~~~~~~~~~~~~~~~~~~~~\n",
      "Running tests\n",
      "\n",
      "---------------------------------------------------------------------\n",
      "Test summary\n",
      "    Passed: 1\n",
      "    Failed: 0\n",
      "[ooooooooook] 100.0% passed\n",
      "\n"
     ]
    }
   ],
   "source": [
    "_ = ok.grade('q1_1')"
   ]
  },
  {
   "cell_type": "markdown",
   "metadata": {},
   "source": [
    "We're going to examine the changes in causes of death over time.  To make a plot of those numbers, we need to have a table with one row per year, and the information about all the causes of death for each year.\n",
    "\n",
    "**Question 2.** Create a table with one row for each year and a column for each kind of death, where each cell contains the number of deaths by that cause in that year. Call the table `cleaned_causes_by_year`."
   ]
  },
  {
   "cell_type": "code",
   "execution_count": 8,
   "metadata": {
    "deletable": false,
    "for_assignment_type": "student"
   },
   "outputs": [
    {
     "data": {
      "text/html": [
       "<table border=\"1\" class=\"dataframe\">\n",
       "    <thead>\n",
       "        <tr>\n",
       "            <th>Year</th> <th>All Other Causes</th> <th>Alzheimer's Disease</th> <th>Cerebrovascular Disease (Stroke)</th> <th>Chronic Liver Disease and Cirrhosis</th> <th>Chronic Lower Respiratory Disease (CLRD)</th> <th>Diabetes Mellitus</th> <th>Diseases of the Heart</th> <th>Intentional Self Harm (Suicide)</th> <th>Malignant Neoplasms (Cancers)</th> <th>Pneumonia and Influenza</th> <th>Unintentional Injuries</th>\n",
       "        </tr>\n",
       "    </thead>\n",
       "    <tbody>\n",
       "        <tr>\n",
       "            <td>1999</td> <td>38392           </td> <td>3934               </td> <td>18079                           </td> <td>3546                               </td> <td>13187                                   </td> <td>6004             </td> <td>69900                </td> <td>3047                           </td> <td>52880                        </td> <td>8014                   </td> <td>8940                  </td>\n",
       "        </tr>\n",
       "        <tr>\n",
       "            <td>2000</td> <td>39259           </td> <td>4398               </td> <td>18090                           </td> <td>3673                               </td> <td>12754                                   </td> <td>6203             </td> <td>68533                </td> <td>3113                           </td> <td>53005                        </td> <td>8355                   </td> <td>8814                  </td>\n",
       "        </tr>\n",
       "        <tr>\n",
       "            <td>2001</td> <td>38383           </td> <td>4897               </td> <td>18078                           </td> <td>3759                               </td> <td>13056                                   </td> <td>6457             </td> <td>69004                </td> <td>3256                           </td> <td>53810                        </td> <td>8167                   </td> <td>9274                  </td>\n",
       "        </tr>\n",
       "        <tr>\n",
       "            <td>2002</td> <td>41177           </td> <td>5405               </td> <td>17551                           </td> <td>3725                               </td> <td>12643                                   </td> <td>6783             </td> <td>68387                </td> <td>3210                           </td> <td>53926                        </td> <td>8098                   </td> <td>9882                  </td>\n",
       "        </tr>\n",
       "        <tr>\n",
       "            <td>2003</td> <td>40325           </td> <td>6585               </td> <td>17686                           </td> <td>3832                               </td> <td>13380                                   </td> <td>7088             </td> <td>69013                </td> <td>3396                           </td> <td>54307                        </td> <td>8184                   </td> <td>10470                 </td>\n",
       "        </tr>\n",
       "        <tr>\n",
       "            <td>2004</td> <td>39926           </td> <td>6962               </td> <td>16884                           </td> <td>3686                               </td> <td>12519                                   </td> <td>7119             </td> <td>65002                </td> <td>3364                           </td> <td>53708                        </td> <td>7331                   </td> <td>10614                 </td>\n",
       "        </tr>\n",
       "        <tr>\n",
       "            <td>2005</td> <td>41791           </td> <td>7694               </td> <td>15550                           </td> <td>3819                               </td> <td>13166                                   </td> <td>7679             </td> <td>64684                </td> <td>3188                           </td> <td>54606                        </td> <td>7537                   </td> <td>10924                 </td>\n",
       "        </tr>\n",
       "        <tr>\n",
       "            <td>2006</td> <td>42965           </td> <td>8141               </td> <td>15011                           </td> <td>3826                               </td> <td>12807                                   </td> <td>7367             </td> <td>64648                </td> <td>3296                           </td> <td>54043                        </td> <td>7329                   </td> <td>11236                 </td>\n",
       "        </tr>\n",
       "        <tr>\n",
       "            <td>2007</td> <td>43130           </td> <td>8495               </td> <td>13724                           </td> <td>4052                               </td> <td>12497                                   </td> <td>7395             </td> <td>62220                </td> <td>3543                           </td> <td>54918                        </td> <td>6522                   </td> <td>11426                 </td>\n",
       "        </tr>\n",
       "        <tr>\n",
       "            <td>2008</td> <td>42800           </td> <td>10095              </td> <td>13792                           </td> <td>4142                               </td> <td>13346                                   </td> <td>7349             </td> <td>60739                </td> <td>3729                           </td> <td>54579                        </td> <td>6576                   </td> <td>10667                 </td>\n",
       "        </tr>\n",
       "        <tr>\n",
       "            <td>2009</td> <td>42507           </td> <td>9882               </td> <td>13410                           </td> <td>4256                               </td> <td>12905                                   </td> <td>6961             </td> <td>58801                </td> <td>3760                           </td> <td>55753                        </td> <td>6350                   </td> <td>10608                 </td>\n",
       "        </tr>\n",
       "        <tr>\n",
       "            <td>2010</td> <td>43785           </td> <td>10833              </td> <td>13566                           </td> <td>4252                               </td> <td>12928                                   </td> <td>7027             </td> <td>58034                </td> <td>3835                           </td> <td>56124                        </td> <td>5856                   </td> <td>10108                 </td>\n",
       "        </tr>\n",
       "        <tr>\n",
       "            <td>2011</td> <td>45865           </td> <td>6169               </td> <td>13420                           </td> <td>4536                               </td> <td>13301                                   </td> <td>7653             </td> <td>59259                </td> <td>3965                           </td> <td>56229                        </td> <td>10334                  </td> <td>11531                 </td>\n",
       "        </tr>\n",
       "        <tr>\n",
       "            <td>2012</td> <td>47722           </td> <td>5820               </td> <td>13453                           </td> <td>4645                               </td> <td>12922                                   </td> <td>7877             </td> <td>59052                </td> <td>3864                           </td> <td>57514                        </td> <td>10750                  </td> <td>11630                 </td>\n",
       "        </tr>\n",
       "        <tr>\n",
       "            <td>2013</td> <td>49737           </td> <td>11868              </td> <td>13603                           </td> <td>4777                               </td> <td>13550                                   </td> <td>7998             </td> <td>59832                </td> <td>4006                           </td> <td>57504                        </td> <td>6523                   </td> <td>11189                 </td>\n",
       "        </tr>\n",
       "    </tbody>\n",
       "</table>"
      ],
      "text/plain": [
       "<IPython.core.display.HTML object>"
      ]
     },
     "metadata": {},
     "output_type": "display_data"
    }
   ],
   "source": [
    "cleaned_causes_by_year = cleaned_causes.pivot(\"Cause of Death\", \"Year\", values=\"Count\", collect=sum)\n",
    "cleaned_causes_by_year.show(15)"
   ]
  },
  {
   "cell_type": "code",
   "execution_count": 9,
   "metadata": {
    "deletable": false
   },
   "outputs": [
    {
     "name": "stdout",
     "output_type": "stream",
     "text": [
      "~~~~~~~~~~~~~~~~~~~~~~~~~~~~~~~~~~~~~~~~~~~~~~~~~~~~~~~~~~~~~~~~~~~~~\n",
      "Running tests\n",
      "\n",
      "---------------------------------------------------------------------\n",
      "Test summary\n",
      "    Passed: 1\n",
      "    Failed: 0\n",
      "[ooooooooook] 100.0% passed\n",
      "\n"
     ]
    }
   ],
   "source": [
    "_ = ok.grade('q1_2')"
   ]
  },
  {
   "cell_type": "markdown",
   "metadata": {},
   "source": [
    "**Question 3.** Make a plot of all the causes of death by year, using your cleaned-up version of the dataset.  There should be a single plot with one line per cause of death.\n",
    "\n",
    "*Hint:* Use the Table method `plot`.  If you pass only a single argument, a line will be made for each of the other columns."
   ]
  },
  {
   "cell_type": "code",
   "execution_count": 10,
   "metadata": {
    "deletable": false,
    "manual_problem_id": "causes_of_death_3"
   },
   "outputs": [
    {
     "data": {
      "image/png": "[encoded data removed]",
      "text/plain": [
       "<Figure size 432x288 with 1 Axes>"
      ]
     },
     "metadata": {},
     "output_type": "display_data"
    }
   ],
   "source": [
    "cleaned_causes_by_year.plot(\"Year\")"
   ]
  },
  {
   "cell_type": "markdown",
   "metadata": {},
   "source": [
    "After seeing the plot above, we would now like to examine the distributions of diseases over the years using percentages. Below, we have assigned `distributions` to a table with all of the same columns, but the raw counts in the cells are replaced by the percentage of the the total number of deaths by a particular disease that happened in that specific year. \n",
    "\n",
    "Try to understand the code below. "
   ]
  },
  {
   "cell_type": "code",
   "execution_count": 11,
   "metadata": {},
   "outputs": [
    {
     "data": {
      "text/html": [
       "<table border=\"1\" class=\"dataframe\">\n",
       "    <thead>\n",
       "        <tr>\n",
       "            <th>Year</th> <th>All Other Causes</th> <th>Alzheimer's Disease</th> <th>Cerebrovascular Disease (Stroke)</th> <th>Chronic Liver Disease and Cirrhosis</th> <th>Chronic Lower Respiratory Disease (CLRD)</th> <th>Diabetes Mellitus</th> <th>Diseases of the Heart</th> <th>Intentional Self Harm (Suicide)</th> <th>Malignant Neoplasms (Cancers)</th> <th>Pneumonia and Influenza</th> <th>Unintentional Injuries</th>\n",
       "        </tr>\n",
       "    </thead>\n",
       "    <tbody>\n",
       "        <tr>\n",
       "            <td>1999</td> <td>6.02            </td> <td>3.54               </td> <td>7.8                             </td> <td>5.86                               </td> <td>6.76                                    </td> <td>5.61             </td> <td>7.3                  </td> <td>5.8                            </td> <td>6.43                         </td> <td>6.91                   </td> <td>5.68                  </td>\n",
       "        </tr>\n",
       "        <tr>\n",
       "            <td>2000</td> <td>6.16            </td> <td>3.96               </td> <td>7.8                             </td> <td>6.07                               </td> <td>6.54                                    </td> <td>5.8              </td> <td>7.16                 </td> <td>5.92                           </td> <td>6.44                         </td> <td>7.21                   </td> <td>5.6                   </td>\n",
       "        </tr>\n",
       "        <tr>\n",
       "            <td>2001</td> <td>6.02            </td> <td>4.4                </td> <td>7.8                             </td> <td>6.21                               </td> <td>6.7                                     </td> <td>6.04             </td> <td>7.21                 </td> <td>6.19                           </td> <td>6.54                         </td> <td>7.05                   </td> <td>5.9                   </td>\n",
       "        </tr>\n",
       "        <tr>\n",
       "            <td>2002</td> <td>6.46            </td> <td>4.86               </td> <td>7.57                            </td> <td>6.15                               </td> <td>6.48                                    </td> <td>6.34             </td> <td>7.15                 </td> <td>6.11                           </td> <td>6.55                         </td> <td>6.99                   </td> <td>6.28                  </td>\n",
       "        </tr>\n",
       "        <tr>\n",
       "            <td>2003</td> <td>6.32            </td> <td>5.92               </td> <td>7.63                            </td> <td>6.33                               </td> <td>6.86                                    </td> <td>6.63             </td> <td>7.21                 </td> <td>6.46                           </td> <td>6.6                          </td> <td>7.06                   </td> <td>6.66                  </td>\n",
       "        </tr>\n",
       "        <tr>\n",
       "            <td>2004</td> <td>6.26            </td> <td>6.26               </td> <td>7.28                            </td> <td>6.09                               </td> <td>6.42                                    </td> <td>6.66             </td> <td>6.79                 </td> <td>6.4                            </td> <td>6.53                         </td> <td>6.32                   </td> <td>6.75                  </td>\n",
       "        </tr>\n",
       "        <tr>\n",
       "            <td>2005</td> <td>6.55            </td> <td>6.92               </td> <td>6.71                            </td> <td>6.31                               </td> <td>6.75                                    </td> <td>7.18             </td> <td>6.76                 </td> <td>6.06                           </td> <td>6.64                         </td> <td>6.5                    </td> <td>6.94                  </td>\n",
       "        </tr>\n",
       "        <tr>\n",
       "            <td>2006</td> <td>6.74            </td> <td>7.32               </td> <td>6.47                            </td> <td>6.32                               </td> <td>6.57                                    </td> <td>6.89             </td> <td>6.75                 </td> <td>6.27                           </td> <td>6.57                         </td> <td>6.32                   </td> <td>7.14                  </td>\n",
       "        </tr>\n",
       "        <tr>\n",
       "            <td>2007</td> <td>6.76            </td> <td>7.64               </td> <td>5.92                            </td> <td>6.69                               </td> <td>6.41                                    </td> <td>6.91             </td> <td>6.5                  </td> <td>6.74                           </td> <td>6.67                         </td> <td>5.63                   </td> <td>7.26                  </td>\n",
       "        </tr>\n",
       "        <tr>\n",
       "            <td>2008</td> <td>6.71            </td> <td>9.08               </td> <td>5.95                            </td> <td>6.84                               </td> <td>6.85                                    </td> <td>6.87             </td> <td>6.35                 </td> <td>7.09                           </td> <td>6.63                         </td> <td>5.67                   </td> <td>6.78                  </td>\n",
       "        </tr>\n",
       "        <tr>\n",
       "            <td>2009</td> <td>6.67            </td> <td>8.89               </td> <td>5.78                            </td> <td>7.03                               </td> <td>6.62                                    </td> <td>6.51             </td> <td>6.14                 </td> <td>7.15                           </td> <td>6.78                         </td> <td>5.48                   </td> <td>6.74                  </td>\n",
       "        </tr>\n",
       "        <tr>\n",
       "            <td>2010</td> <td>6.87            </td> <td>9.74               </td> <td>5.85                            </td> <td>7.03                               </td> <td>6.63                                    </td> <td>6.57             </td> <td>6.06                 </td> <td>7.29                           </td> <td>6.82                         </td> <td>5.05                   </td> <td>6.43                  </td>\n",
       "        </tr>\n",
       "        <tr>\n",
       "            <td>2011</td> <td>7.19            </td> <td>5.55               </td> <td>5.79                            </td> <td>7.49                               </td> <td>6.82                                    </td> <td>7.16             </td> <td>6.19                 </td> <td>7.54                           </td> <td>6.83                         </td> <td>8.91                   </td> <td>7.33                  </td>\n",
       "        </tr>\n",
       "        <tr>\n",
       "            <td>2012</td> <td>7.48            </td> <td>5.23               </td> <td>5.8                             </td> <td>7.67                               </td> <td>6.63                                    </td> <td>7.36             </td> <td>6.17                 </td> <td>7.35                           </td> <td>6.99                         </td> <td>9.27                   </td> <td>7.39                  </td>\n",
       "        </tr>\n",
       "        <tr>\n",
       "            <td>2013</td> <td>7.8             </td> <td>10.67              </td> <td>5.87                            </td> <td>7.89                               </td> <td>6.95                                    </td> <td>7.48             </td> <td>6.25                 </td> <td>7.62                           </td> <td>6.99                         </td> <td>5.63                   </td> <td>7.11                  </td>\n",
       "        </tr>\n",
       "    </tbody>\n",
       "</table>"
      ],
      "text/plain": [
       "<IPython.core.display.HTML object>"
      ]
     },
     "metadata": {},
     "output_type": "display_data"
    }
   ],
   "source": [
    "def percents(array_x):\n",
    "    return np.round( (array_x/sum(array_x))*100, 2)\n",
    "\n",
    "labels = cleaned_causes_by_year.labels\n",
    "distributions = Table().with_columns(labels[0], cleaned_causes_by_year.column(0),\n",
    "                                     labels[1], percents(cleaned_causes_by_year.column(1)),\n",
    "                                     labels[2], percents(cleaned_causes_by_year.column(2)),\n",
    "                                     labels[3], percents(cleaned_causes_by_year.column(3)),\n",
    "                                     labels[4], percents(cleaned_causes_by_year.column(4)),\n",
    "                                     labels[5], percents(cleaned_causes_by_year.column(5)),\n",
    "                                     labels[6], percents(cleaned_causes_by_year.column(6)),\n",
    "                                     labels[7], percents(cleaned_causes_by_year.column(7)),\n",
    "                                     labels[8], percents(cleaned_causes_by_year.column(8)),\n",
    "                                     labels[9], percents(cleaned_causes_by_year.column(9)),\n",
    "                                     labels[10], percents(cleaned_causes_by_year.column(10)),\n",
    "                                     labels[11], percents(cleaned_causes_by_year.column(11)))\n",
    "distributions.show()"
   ]
  },
  {
   "cell_type": "markdown",
   "metadata": {},
   "source": [
    "**Question 4.** What is the sum (roughly) of each of the columns (except the Year column) in the table above? Why does this make sense? "
   ]
  },
  {
   "cell_type": "markdown",
   "metadata": {
    "deletable": false,
    "manual_problem_id": "causes_of_death_4",
    "scrolled": true
   },
   "source": [
    "The sum is about 100 for each of the columns. This makes sense because the percent function defined takes in the sum of all the numbers in that column as the total and calculates the percentage for that year based on that total. In other words, the perentage given in a particular cell is the percentage of people killed by that cause in that year given the total amount of people killed by that cause from 1999-2013."
   ]
  },
  {
   "cell_type": "markdown",
   "metadata": {},
   "source": [
    "**Question 5:** We suspect that the larger percentage of stroke-related deaths over the years 1999-2013 happened in the earlier years, while the larger percentage of deaths related to Chronic Liver Disease over this time period occured in the most recent years. Draw a bar chart to display both of the distributions of these diseases over the time period. \n",
    "\n",
    "*Hint:* The relevant column labels are \"Cerebrovascular Disease (Stroke)\" and \"Chronic Liver Disease and Cirrhosis\""
   ]
  },
  {
   "cell_type": "code",
   "execution_count": 12,
   "metadata": {
    "deletable": false,
    "manual_problem_id": "causes_of_death_5"
   },
   "outputs": [
    {
     "data": {
      "text/plain": [
       "Text(0.5, 0, '% of total deaths')"
      ]
     },
     "execution_count": 12,
     "metadata": {},
     "output_type": "execute_result"
    },
    {
     "data": {
      "image/png": "[encoded data removed]",
      "text/plain": [
       "<Figure size 432x540 with 1 Axes>"
      ]
     },
     "metadata": {},
     "output_type": "display_data"
    }
   ],
   "source": [
    "distributions.select(\"Year\", \"Cerebrovascular Disease (Stroke)\",\"Chronic Liver Disease and Cirrhosis\").barh(\"Year\")\n",
    "\n",
    "# Don't change the code below this comment.\n",
    "plt.title(\"% of total deaths / disease per year\")\n",
    "plt.xlabel(\"% of total deaths\")\n"
   ]
  },
  {
   "cell_type": "markdown",
   "metadata": {},
   "source": [
    "## 2. Faculty salaries\n"
   ]
  },
  {
   "cell_type": "markdown",
   "metadata": {},
   "source": [
    "In the next cell, we load a dataset created by the [Daily Cal](http://projects.dailycal.org/paychecker/) which contains Berkeley faculty, their departments, their positions, and their gross salaries in 2015."
   ]
  },
  {
   "cell_type": "code",
   "execution_count": 13,
   "metadata": {},
   "outputs": [
    {
     "data": {
      "text/html": [
       "<table border=\"1\" class=\"dataframe\">\n",
       "    <thead>\n",
       "        <tr>\n",
       "            <th>name</th> <th>department</th> <th>position</th> <th>gross_salary</th>\n",
       "        </tr>\n",
       "    </thead>\n",
       "    <tbody>\n",
       "        <tr>\n",
       "            <td>CYNTHIA ABAN   </td> <td>South & Southeast Asian Studies</td> <td>lecturer           </td> <td>64450       </td>\n",
       "        </tr>\n",
       "        <tr>\n",
       "            <td>PIETER ABBEEL  </td> <td>Computer Science               </td> <td>associate professor</td> <td>184998      </td>\n",
       "        </tr>\n",
       "        <tr>\n",
       "            <td>SALLY ABEL     </td> <td>Law                            </td> <td>lecturer           </td> <td>3466        </td>\n",
       "        </tr>\n",
       "        <tr>\n",
       "            <td>ELIZABETH ABEL </td> <td>English                        </td> <td>professor          </td> <td>138775      </td>\n",
       "        </tr>\n",
       "        <tr>\n",
       "            <td>DOR ABRAHAMSON </td> <td>Education                      </td> <td>associate professor</td> <td>100300      </td>\n",
       "        </tr>\n",
       "        <tr>\n",
       "            <td>KATHRYN ABRAMS </td> <td>Law                            </td> <td>professor          </td> <td>319693      </td>\n",
       "        </tr>\n",
       "        <tr>\n",
       "            <td>BARBARA ABRAMS </td> <td>Public Health                  </td> <td>professor          </td> <td>191162      </td>\n",
       "        </tr>\n",
       "        <tr>\n",
       "            <td>SARAH ACCOMAZZO</td> <td>Social Welfare                 </td> <td>lecturer           </td> <td>14779       </td>\n",
       "        </tr>\n",
       "        <tr>\n",
       "            <td>CHARISMA ACEY  </td> <td>City and Regional Planning     </td> <td>assistant professor</td> <td>101567      </td>\n",
       "        </tr>\n",
       "        <tr>\n",
       "            <td>DAVID ACKERLY  </td> <td>Biology                        </td> <td>professor          </td> <td>182288      </td>\n",
       "        </tr>\n",
       "    </tbody>\n",
       "</table>\n",
       "<p>... (2049 rows omitted)</p>"
      ],
      "text/plain": [
       "name            | department                      | position            | gross_salary\n",
       "CYNTHIA ABAN    | South & Southeast Asian Studies | lecturer            | 64450\n",
       "PIETER ABBEEL   | Computer Science                | associate professor | 184998\n",
       "SALLY ABEL      | Law                             | lecturer            | 3466\n",
       "ELIZABETH ABEL  | English                         | professor           | 138775\n",
       "DOR ABRAHAMSON  | Education                       | associate professor | 100300\n",
       "KATHRYN ABRAMS  | Law                             | professor           | 319693\n",
       "BARBARA ABRAMS  | Public Health                   | professor           | 191162\n",
       "SARAH ACCOMAZZO | Social Welfare                  | lecturer            | 14779\n",
       "CHARISMA ACEY   | City and Regional Planning      | assistant professor | 101567\n",
       "DAVID ACKERLY   | Biology                         | professor           | 182288\n",
       "... (2049 rows omitted)"
      ]
     },
     "execution_count": 13,
     "metadata": {},
     "output_type": "execute_result"
    }
   ],
   "source": [
    "raw_profs = Table.read_table(\"faculty.csv\").where(\"year\", are.equal_to(2015)).drop(\"year\", \"title\")\n",
    "profs = raw_profs.relabel(\"title_category\", \"position\")\n",
    "profs"
   ]
  },
  {
   "cell_type": "markdown",
   "metadata": {},
   "source": [
    "We want to use this table to generate arrays with the names of each professor in each department."
   ]
  },
  {
   "cell_type": "markdown",
   "metadata": {},
   "source": [
    "**Question 1.** Set `prof_names` to a table with two columns. The first column should be called `department` and have the name of every department once, and the second column should be called `faculty` and contain an *array* of the names of all faculty members in that department. \n",
    "\n",
    "*Hint:* Think about how ```group``` works: it collects values into an array and then applies a function to that array. We have defined two functions below for you, and you will need to use one of them in your call to ```group```."
   ]
  },
  {
   "cell_type": "code",
   "execution_count": 14,
   "metadata": {},
   "outputs": [],
   "source": [
    "# Pick one of the two functions defined below in your call to group.\n",
    "def identity(array):\n",
    "    return array \n",
    "\n",
    "def first(array):\n",
    "    return array.item(0)"
   ]
  },
  {
   "cell_type": "code",
   "execution_count": 15,
   "metadata": {},
   "outputs": [
    {
     "data": {
      "text/html": [
       "<table border=\"1\" class=\"dataframe\">\n",
       "    <thead>\n",
       "        <tr>\n",
       "            <th>department</th> <th>faculty</th>\n",
       "        </tr>\n",
       "    </thead>\n",
       "    <tbody>\n",
       "        <tr>\n",
       "            <td>African American Studies                      </td> <td>['AYA DE LEON' 'CHIYUMA ELLIOTT' 'NIKKI JONES' 'DAVID KY ...</td>\n",
       "        </tr>\n",
       "        <tr>\n",
       "            <td>Agricultural and Resource Economics and Policy</td> <td>['MAXIMILIAN AUFFHAMMER' 'CHARLES GIBBONS' 'JEFFREY PERL ...</td>\n",
       "        </tr>\n",
       "        <tr>\n",
       "            <td>Anthroplogy                                   </td> <td>['SABRINA AGARWAL' 'STANLEY BRANDES' 'CHARLES BRIGGS'\n",
       " ' ...</td>\n",
       "        </tr>\n",
       "        <tr>\n",
       "            <td>Architecture                                  </td> <td>['MARK ANDERSON' 'JACOB ATHERTON' 'WILLIAM ATWOOD' 'R.GA ...</td>\n",
       "        </tr>\n",
       "        <tr>\n",
       "            <td>Art History                                   </td> <td>['DILIANA ANGELOVA' 'PATRICIA BERGER' 'JULIA BRYAN-WILSO ...</td>\n",
       "        </tr>\n",
       "        <tr>\n",
       "            <td>Art Practice                                  </td> <td>['ALLAN DESOUZA' 'AIDA GAMEZ' 'RANDY HUSSONG' 'JENNIFER  ...</td>\n",
       "        </tr>\n",
       "        <tr>\n",
       "            <td>Astronomy                                     </td> <td>['GIBOR BASRI' 'STEVEN BECKWITH' 'LEO BLITZ' 'EUGENE CHI ...</td>\n",
       "        </tr>\n",
       "        <tr>\n",
       "            <td>Bioengineering                                </td> <td>['ADAM ARKIN' 'IRINA CONBOY' 'STEVEN CONOLLY' 'JOHN DUEB ...</td>\n",
       "        </tr>\n",
       "        <tr>\n",
       "            <td>Biology                                       </td> <td>['DAVID ACKERLY' 'HILLEL ADESNIK' 'KELLY AGNEW' 'DORIS B ...</td>\n",
       "        </tr>\n",
       "        <tr>\n",
       "            <td>Buddhist Studies                              </td> <td>['JANN RONIS']                                              </td>\n",
       "        </tr>\n",
       "    </tbody>\n",
       "</table>\n",
       "<p>... (61 rows omitted)</p>"
      ],
      "text/plain": [
       "department                                     | faculty\n",
       "African American Studies                       | ['AYA DE LEON' 'CHIYUMA ELLIOTT' 'NIKKI JONES' 'DAVID KY ...\n",
       "Agricultural and Resource Economics and Policy | ['MAXIMILIAN AUFFHAMMER' 'CHARLES GIBBONS' 'JEFFREY PERL ...\n",
       "Anthroplogy                                    | ['SABRINA AGARWAL' 'STANLEY BRANDES' 'CHARLES BRIGGS'\n",
       " ' ...\n",
       "Architecture                                   | ['MARK ANDERSON' 'JACOB ATHERTON' 'WILLIAM ATWOOD' 'R.GA ...\n",
       "Art History                                    | ['DILIANA ANGELOVA' 'PATRICIA BERGER' 'JULIA BRYAN-WILSO ...\n",
       "Art Practice                                   | ['ALLAN DESOUZA' 'AIDA GAMEZ' 'RANDY HUSSONG' 'JENNIFER  ...\n",
       "Astronomy                                      | ['GIBOR BASRI' 'STEVEN BECKWITH' 'LEO BLITZ' 'EUGENE CHI ...\n",
       "Bioengineering                                 | ['ADAM ARKIN' 'IRINA CONBOY' 'STEVEN CONOLLY' 'JOHN DUEB ...\n",
       "Biology                                        | ['DAVID ACKERLY' 'HILLEL ADESNIK' 'KELLY AGNEW' 'DORIS B ...\n",
       "Buddhist Studies                               | ['JANN RONIS']\n",
       "... (61 rows omitted)"
      ]
     },
     "execution_count": 15,
     "metadata": {},
     "output_type": "execute_result"
    }
   ],
   "source": [
    "prof_names = Table().with_columns(\"department\", profs.group(\"department\").select(\"department\")[0],\n",
    "                                 \"faculty\", profs.group(\"department\", identity).select('name identity')[0])\n",
    "                                \n",
    "prof_names"
   ]
  },
  {
   "cell_type": "code",
   "execution_count": 16,
   "metadata": {
    "deletable": false
   },
   "outputs": [
    {
     "name": "stdout",
     "output_type": "stream",
     "text": [
      "~~~~~~~~~~~~~~~~~~~~~~~~~~~~~~~~~~~~~~~~~~~~~~~~~~~~~~~~~~~~~~~~~~~~~\n",
      "Running tests\n",
      "\n",
      "---------------------------------------------------------------------\n",
      "Test summary\n",
      "    Passed: 1\n",
      "    Failed: 0\n",
      "[ooooooooook] 100.0% passed\n",
      "\n"
     ]
    }
   ],
   "source": [
    "_ = ok.grade('q2_1')"
   ]
  },
  {
   "cell_type": "markdown",
   "metadata": {},
   "source": [
    "**Question 2.** At the moment, the ```name``` column is sorted by last name. Would the arrays you generated in the previous part be the same if we had sorted by first name instead before generating them? Two arrays are the **same** if they contain the same number of elements and the elements located at corresponding indexes in the two arrays are identical. Explain your answer. If you feel you need to make certain assumptions about the data, feel free to state them in your response. "
   ]
  },
  {
   "cell_type": "markdown",
   "metadata": {
    "deletable": false,
    "manual_problem_id": "faculty_1"
   },
   "source": [
    "If profs was sorted by first name, the array would not be the same. The each cell in the faculty column is sorted by last name as that is the order put inside the identity function. If sorted by first name, cells in the faculty column would be by order of first name as well. "
   ]
  },
  {
   "cell_type": "markdown",
   "metadata": {},
   "source": [
    "**Question 3.** Set `biggest_range_dept` to the name of the department with the largest salary range, where range is defined as the **difference between the highest salary and the lowest salary in the department**. \n",
    "\n",
    "*Hint:* First you'll need to define a new function `salary_range` which takes in an array of salaries and returns the salary range of the corresponding department. Then, set `department_ranges` to a table containing the names and salary ranges of each department. "
   ]
  },
  {
   "cell_type": "code",
   "execution_count": 92,
   "metadata": {},
   "outputs": [],
   "source": [
    "# Define salary_range in this cell\n",
    "def salary_range(profs):\n",
    "    return profs.select(\"department\", \"gross_salary\").group(\"department\", max).select(1)[0]-profs.select(\"department\", \"gross_salary\").group(\"department\", min).select(1)[0]"
   ]
  },
  {
   "cell_type": "code",
   "execution_count": 112,
   "metadata": {},
   "outputs": [
    {
     "data": {
      "text/plain": [
       "'Economics'"
      ]
     },
     "execution_count": 112,
     "metadata": {},
     "output_type": "execute_result"
    }
   ],
   "source": [
    "department_ranges = profs.group(\"department\").drop('count').with_columns(\"salary range\", salary_range(profs))\n",
    "biggest_range_dept=first(department_ranges.sort(\"salary range\", descending=True).select(0)[0])\n",
    "biggest_range_dept"
   ]
  },
  {
   "cell_type": "code",
   "execution_count": 113,
   "metadata": {
    "deletable": false
   },
   "outputs": [
    {
     "name": "stdout",
     "output_type": "stream",
     "text": [
      "~~~~~~~~~~~~~~~~~~~~~~~~~~~~~~~~~~~~~~~~~~~~~~~~~~~~~~~~~~~~~~~~~~~~~\n",
      "Running tests\n",
      "\n",
      "---------------------------------------------------------------------\n",
      "Test summary\n",
      "    Passed: 2\n",
      "    Failed: 0\n",
      "[ooooooooook] 100.0% passed\n",
      "\n"
     ]
    }
   ],
   "source": [
    "_ = ok.grade('q2_3')"
   ]
  },
  {
   "cell_type": "markdown",
   "metadata": {},
   "source": [
    "## 3. Submission\n"
   ]
  },
  {
   "cell_type": "markdown",
   "metadata": {
    "collapsed": true
   },
   "source": [
    "Once you're finished, select \"Save and Checkpoint\" in the File menu and then execute the `submit` cell below. The result will contain a link that you can use to check that your assignment has been submitted successfully. If you submit more than once before the deadline, we will only grade your final submission. If you mistakenly submit the wrong one, you can head to [okpy.org](https://okpy.org/) and flag the correct version. To do so, go to the website, click on this assignment, and find the version you would like to have graded. There should be an option to flag that submission for grading!"
   ]
  },
  {
   "cell_type": "code",
   "execution_count": 114,
   "metadata": {},
   "outputs": [
    {
     "data": {
      "application/javascript": [
       "IPython.notebook.save_checkpoint();"
      ],
      "text/plain": [
       "<IPython.core.display.Javascript object>"
      ]
     },
     "metadata": {},
     "output_type": "display_data"
    },
    {
     "data": {
      "application/javascript": [
       "IPython.notebook.save_notebook();"
      ],
      "text/plain": [
       "<IPython.core.display.Javascript object>"
      ]
     },
     "metadata": {},
     "output_type": "display_data"
    },
    {
     "name": "stdout",
     "output_type": "stream",
     "text": [
      "Saving notebook... Saved 'hw04.ipynb'.\n",
      "Submit... 100% complete\n",
      "Submission successful for user: mingxiuhui@berkeley.edu\n",
      "URL: https://okpy.org/cal/data8/sp19/hw04/submissions/WL7vrn\n",
      "\n"
     ]
    }
   ],
   "source": [
    "_ = ok.submit()"
   ]
  },
  {
   "cell_type": "code",
   "execution_count": null,
   "metadata": {},
   "outputs": [
    {
     "name": "stdout",
     "output_type": "stream",
     "text": [
      "Running all tests...\n",
      "~~~~~~~~~~~~~~~~~~~~~~~~~~~~~~~~~~~~~~~~~~~~~~~~~~~~~~~~~~~~~~~~~~~~~\n",
      "Running tests\n",
      "\n",
      "---------------------------------------------------------------------\n",
      "Test summary\n",
      "    Passed: 1\n",
      "    Failed: 0\n",
      "[ooooooooook] 100.0% passed\n",
      "\n",
      "~~~~~~~~~~~~~~~~~~~~~~~~~~~~~~~~~~~~~~~~~~~~~~~~~~~~~~~~~~~~~~~~~~~~~\n",
      "Running tests\n",
      "\n",
      "---------------------------------------------------------------------\n",
      "Test summary\n",
      "    Passed: 2\n",
      "    Failed: 0\n",
      "[ooooooooook] 100.0% passed\n",
      "\n",
      "~~~~~~~~~~~~~~~~~~~~~~~~~~~~~~~~~~~~~~~~~~~~~~~~~~~~~~~~~~~~~~~~~~~~~\n",
      "Running tests\n",
      "\n",
      "---------------------------------------------------------------------\n",
      "Test summary\n",
      "    Passed: 1\n",
      "    Failed: 0\n",
      "[ooooooooook] 100.0% passed\n",
      "\n",
      "~~~~~~~~~~~~~~~~~~~~~~~~~~~~~~~~~~~~~~~~~~~~~~~~~~~~~~~~~~~~~~~~~~~~~\n",
      "Running tests\n",
      "\n"
     ]
    }
   ],
   "source": [
    "# For your convenience, you can run this cell to run all the tests at once!\n",
    "import os\n",
    "print(\"Running all tests...\")\n",
    "_ = [ok.grade(q[:-3]) for q in os.listdir(\"tests\") if q.startswith('q') and len(q) <= 10]\n",
    "print(\"Finished running all tests.\")"
   ]
  },
  {
   "cell_type": "code",
   "execution_count": null,
   "metadata": {},
   "outputs": [],
   "source": []
  }
 ],
 "metadata": {
  "kernelspec": {
   "display_name": "Python 3",
   "language": "python",
   "name": "python3"
  },
  "language_info": {
   "codemirror_mode": {
    "name": "ipython",
    "version": 3
   },
   "file_extension": ".py",
   "mimetype": "text/x-python",
   "name": "python",
   "nbconvert_exporter": "python",
   "pygments_lexer": "ipython3",
   "version": "3.6.7"
  }
 },
 "nbformat": 4,
 "nbformat_minor": 1
}
